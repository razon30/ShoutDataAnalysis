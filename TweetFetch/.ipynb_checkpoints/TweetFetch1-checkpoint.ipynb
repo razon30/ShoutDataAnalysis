{
 "cells": [
  {
   "cell_type": "code",
   "execution_count": 45,
   "id": "e7590eda",
   "metadata": {},
   "outputs": [],
   "source": [
    "keywords = ['professions expense', 'firm frustrating', 'labor physical', 'housing upbeat']"
   ]
  },
  {
   "cell_type": "code",
   "execution_count": 46,
   "id": "4c044352",
   "metadata": {},
   "outputs": [],
   "source": [
    "import snscrape.modules.twitter as sntwitter\n",
    "import pandas as pd"
   ]
  },
  {
   "cell_type": "code",
   "execution_count": 47,
   "id": "641d1a87",
   "metadata": {},
   "outputs": [],
   "source": [
    "maxTweets = 50000\n",
    "i = 0\n",
    "# Creating list to append tweet data to\n",
    "tweets_list2 = []\n",
    "jsonList = []"
   ]
  },
  {
   "cell_type": "code",
   "execution_count": 48,
   "id": "17011b4c",
   "metadata": {},
   "outputs": [],
   "source": [
    "for kw in keywords:\n",
    "    searchKey = kw+' since:2021-06-01 until:2021-10-10'\n",
    "    for tweet in sntwitter.TwitterSearchScraper(searchKey).get_items():\n",
    "        #print(tweet)\n",
    "        #print(str(i))\n",
    "        #jsonList.append(tweet)\n",
    "        i += 1\n",
    "        tweets_list2.append([tweet.date, tweet.content, tweet.user.location])\n",
    "        if i>maxTweets:\n",
    "            i = 0\n",
    "            print(kw)\n",
    "            print(str(len(tweets_list2)))\n",
    "            break"
   ]
  },
  {
   "cell_type": "code",
   "execution_count": 49,
   "id": "d8b4ae09",
   "metadata": {},
   "outputs": [],
   "source": [
    "for item in tweets_list2:\n",
    "    item[0] = str(item[0])\n",
    "tweets_df2 = pd.DataFrame(tweets_list2, \n",
    "                          columns=['date', 'Text', 'Location'])\n",
    "tweets_df2.to_excel('/Volumes/Works/Development/Python/Shout/newTweets/tweet1.xlsx', engine='xlsxwriter')"
   ]
  },
  {
   "cell_type": "code",
   "execution_count": null,
   "id": "36f6f126",
   "metadata": {},
   "outputs": [],
   "source": []
  },
  {
   "cell_type": "code",
   "execution_count": null,
   "id": "5151e50e",
   "metadata": {},
   "outputs": [],
   "source": []
  },
  {
   "cell_type": "code",
   "execution_count": null,
   "id": "afa9d216",
   "metadata": {},
   "outputs": [],
   "source": []
  },
  {
   "cell_type": "code",
   "execution_count": null,
   "id": "21e0b997",
   "metadata": {},
   "outputs": [],
   "source": []
  }
 ],
 "metadata": {
  "kernelspec": {
   "display_name": "Python 3 (ipykernel)",
   "language": "python",
   "name": "python3"
  },
  "language_info": {
   "codemirror_mode": {
    "name": "ipython",
    "version": 3
   },
   "file_extension": ".py",
   "mimetype": "text/x-python",
   "name": "python",
   "nbconvert_exporter": "python",
   "pygments_lexer": "ipython3",
   "version": "3.9.7"
  }
 },
 "nbformat": 4,
 "nbformat_minor": 5
}
