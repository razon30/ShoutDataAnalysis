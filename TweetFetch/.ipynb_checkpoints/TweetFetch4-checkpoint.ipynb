{
 "cells": [
  {
   "cell_type": "code",
   "execution_count": 1,
   "id": "e7590eda",
   "metadata": {},
   "outputs": [],
   "source": [
    "keywords = ['professions expense', 'firm frustrating', 'labor physical', 'housing upbeat', \n",
    " 'diversity agreement', 'employers knackered', 'productivity challenging', \n",
    " 'worker up', 'meeting out', 'production productive', 'hiring agreement', \n",
    " 'meeting positivethinking', 'desk lad', 'meeting mismanagement', \n",
    " 'jobs awful', 'productivity headaches', 'forces woot', 'employee struggle', \n",
    " 'services  lad', 'employee godspeed']"
   ]
  },
  {
   "cell_type": "code",
   "execution_count": 3,
   "id": "d8bc0bc4",
   "metadata": {},
   "outputs": [],
   "source": [
    "import snscrape.modules.twitter as sntwitter\n",
    "import pandas as pd"
   ]
  },
  {
   "cell_type": "code",
   "execution_count": 4,
   "id": "21d880a3",
   "metadata": {},
   "outputs": [],
   "source": [
    "maxTweets = 5\n",
    "\n",
    "# Creating list to append tweet data to\n",
    "tweets_list2 = []\n",
    "jsonList = []"
   ]
  },
  {
   "cell_type": "code",
   "execution_count": 11,
   "id": "c11a7fcd",
   "metadata": {},
   "outputs": [],
   "source": [
    "for kw in keywords:\n",
    "    searchKey = 'professions expense since:2021-06-01 until:2021-10-10'\n",
    "    for i,tweet in enumerate(sntwitter.TwitterSearchScraper(searchKey).get_items()):\n",
    "        jsonList.append(tweet)\n",
    "        if i>maxTweets:\n",
    "            break\n",
    "            print(tweet)\n",
    "            tweets_list2.append([tweet.date, tweet.content, tweet.user.location])"
   ]
  },
  {
   "cell_type": "code",
   "execution_count": 9,
   "id": "ae3535cc",
   "metadata": {},
   "outputs": [],
   "source": [
    "for item in tweets_list2:\n",
    "    item[0] = str(item[0])\n",
    "tweets_df2 = pd.DataFrame(tweets_list2, \n",
    "                          columns=['date', 'Text', 'Location'])\n",
    "tweets_df2.to_excel('/Volumes/Works/Development/Python/Shout/newTweets/tweet4.xlsx', engine='xlsxwriter')"
   ]
  },
  {
   "cell_type": "code",
   "execution_count": null,
   "id": "1f6fc394",
   "metadata": {},
   "outputs": [],
   "source": []
  },
  {
   "cell_type": "code",
   "execution_count": null,
   "id": "bf25b86a",
   "metadata": {},
   "outputs": [],
   "source": []
  },
  {
   "cell_type": "code",
   "execution_count": null,
   "id": "7642c930",
   "metadata": {},
   "outputs": [],
   "source": []
  },
  {
   "cell_type": "code",
   "execution_count": null,
   "id": "90b56e7e",
   "metadata": {},
   "outputs": [],
   "source": []
  },
  {
   "cell_type": "code",
   "execution_count": null,
   "id": "b0fb6f76",
   "metadata": {},
   "outputs": [],
   "source": []
  }
 ],
 "metadata": {
  "kernelspec": {
   "display_name": "Python 3 (ipykernel)",
   "language": "python",
   "name": "python3"
  },
  "language_info": {
   "codemirror_mode": {
    "name": "ipython",
    "version": 3
   },
   "file_extension": ".py",
   "mimetype": "text/x-python",
   "name": "python",
   "nbconvert_exporter": "python",
   "pygments_lexer": "ipython3",
   "version": "3.9.7"
  }
 },
 "nbformat": 4,
 "nbformat_minor": 5
}
