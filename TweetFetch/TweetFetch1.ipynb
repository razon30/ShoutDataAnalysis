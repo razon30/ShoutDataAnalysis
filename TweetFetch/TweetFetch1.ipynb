{
 "cells": [
  {
   "cell_type": "code",
   "execution_count": 1,
   "id": "e7590eda",
   "metadata": {},
   "outputs": [],
   "source": [
    "keywords = ['professions expense', 'firm frustrating', 'labor physical', 'housing upbeat']"
   ]
  },
  {
   "cell_type": "code",
   "execution_count": 8,
   "id": "5c488c10",
   "metadata": {},
   "outputs": [],
   "source": [
    "import snscrape.modules.twitter as sntwitter\n",
    "import pandas as pd"
   ]
  },
  {
   "cell_type": "code",
   "execution_count": 9,
   "id": "910f849e",
   "metadata": {},
   "outputs": [],
   "source": [
    "maxTweets = 50000\n",
    "#i = 0\n",
    "# Creating list to append tweet data to\n",
    "tweets_list2 = []\n",
    "jsonList = []"
   ]
  },
  {
   "cell_type": "code",
   "execution_count": 10,
   "id": "f9c260c6",
   "metadata": {},
   "outputs": [],
   "source": [
    "for kw in keywords:\n",
    "    searchKey = kw+' since:2018-01-01 until:2021-12-31'\n",
    "    #print(len(sntwitter.TwitterSearchScraper(searchKey).get_items()))\n",
    "    for i,tweet in enumerate(sntwitter.TwitterSearchScraper(searchKey).get_items()):\n",
    "        #print(tweet.user.location)\n",
    "        #print(str(i))\n",
    "        #jsonList.append(tweet)\n",
    "        #i += 1\n",
    "        tweets_list2.append([tweet.id, tweet.date, tweet.content, tweet.user.location])\n",
    "#         if i>maxTweets:\n",
    "#             #i = 0\n",
    "#             print(kw)\n",
    "#             #print(str(len(tweets_list2)))\n",
    "#             break"
   ]
  },
  {
   "cell_type": "code",
   "execution_count": 11,
   "id": "f7dcf47f",
   "metadata": {},
   "outputs": [],
   "source": [
    "for item in tweets_list2:\n",
    "    item[1] = str(item[1])\n",
    "tweets_df2 = pd.DataFrame(tweets_list2, \n",
    "                          columns=['tweetID', 'date', 'Text', 'Location'])\n",
    "tweets_df2.to_excel('/Volumes/Works/Development/Python/Shout/newTweets/CleanedDs/UnsupervisedDataWithID/tweet1.xlsx', engine='xlsxwriter')"
   ]
  },
  {
   "cell_type": "code",
   "execution_count": null,
   "id": "903e1649",
   "metadata": {},
   "outputs": [],
   "source": []
  },
  {
   "cell_type": "code",
   "execution_count": null,
   "id": "93f06482",
   "metadata": {},
   "outputs": [],
   "source": []
  },
  {
   "cell_type": "code",
   "execution_count": null,
   "id": "5e460e14",
   "metadata": {},
   "outputs": [],
   "source": []
  },
  {
   "cell_type": "code",
   "execution_count": null,
   "id": "4a73dd3a",
   "metadata": {},
   "outputs": [],
   "source": []
  }
 ],
 "metadata": {
  "kernelspec": {
   "display_name": "Python 3 (ipykernel)",
   "language": "python",
   "name": "python3"
  },
  "language_info": {
   "codemirror_mode": {
    "name": "ipython",
    "version": 3
   },
   "file_extension": ".py",
   "mimetype": "text/x-python",
   "name": "python",
   "nbconvert_exporter": "python",
   "pygments_lexer": "ipython3",
   "version": "3.9.7"
  }
 },
 "nbformat": 4,
 "nbformat_minor": 5
}
