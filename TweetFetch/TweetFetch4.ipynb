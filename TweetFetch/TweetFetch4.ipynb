{
 "cells": [
  {
   "cell_type": "code",
   "execution_count": 1,
   "id": "e7590eda",
   "metadata": {},
   "outputs": [],
   "source": [
    "keywords = ['productivity headaches', 'desk lad', 'meeting mismanagement', \n",
    " 'jobs awful']"
   ]
  },
  {
   "cell_type": "code",
   "execution_count": 2,
   "id": "d8bc0bc4",
   "metadata": {},
   "outputs": [],
   "source": [
    "import snscrape.modules.twitter as sntwitter\n",
    "import pandas as pd"
   ]
  },
  {
   "cell_type": "code",
   "execution_count": 3,
   "id": "21d880a3",
   "metadata": {},
   "outputs": [],
   "source": [
    "#maxTweets = 50000\n",
    "\n",
    "# Creating list to append tweet data to\n",
    "tweets_list2 = []\n",
    "jsonList = []"
   ]
  },
  {
   "cell_type": "code",
   "execution_count": 4,
   "id": "c11a7fcd",
   "metadata": {},
   "outputs": [],
   "source": [
    "for kw in keywords:\n",
    "    searchKey = kw+' since:2018-01-01 until:2021-5-31'\n",
    "    for i,tweet in enumerate(sntwitter.TwitterSearchScraper(searchKey).get_items()):\n",
    "        #print(tweet)\n",
    "        #print(str(i))\n",
    "        #jsonList.append(tweet)\n",
    "        tweets_list2.append([tweet.id, tweet.date, tweet.content, tweet.user.location])"
   ]
  },
  {
   "cell_type": "code",
   "execution_count": 5,
   "id": "ae3535cc",
   "metadata": {},
   "outputs": [],
   "source": [
    "for item in tweets_list2:\n",
    "    item[1] = str(item[1])\n",
    "tweets_df2 = pd.DataFrame(tweets_list2, \n",
    "                          columns=['tweetID', 'date', 'Text', 'Location'])\n",
    "tweets_df2.to_excel('/Volumes/Works/Development/Python/Shout/newTweets/CleanedDs/UnsupervisedDataWithID/tweet4.xlsx', engine='xlsxwriter')"
   ]
  },
  {
   "cell_type": "code",
   "execution_count": null,
   "id": "1f6fc394",
   "metadata": {},
   "outputs": [],
   "source": []
  },
  {
   "cell_type": "code",
   "execution_count": null,
   "id": "bf25b86a",
   "metadata": {},
   "outputs": [],
   "source": []
  },
  {
   "cell_type": "code",
   "execution_count": null,
   "id": "7642c930",
   "metadata": {},
   "outputs": [],
   "source": []
  },
  {
   "cell_type": "code",
   "execution_count": null,
   "id": "90b56e7e",
   "metadata": {},
   "outputs": [],
   "source": []
  },
  {
   "cell_type": "code",
   "execution_count": null,
   "id": "b0fb6f76",
   "metadata": {},
   "outputs": [],
   "source": []
  }
 ],
 "metadata": {
  "kernelspec": {
   "display_name": "Python 3 (ipykernel)",
   "language": "python",
   "name": "python3"
  },
  "language_info": {
   "codemirror_mode": {
    "name": "ipython",
    "version": 3
   },
   "file_extension": ".py",
   "mimetype": "text/x-python",
   "name": "python",
   "nbconvert_exporter": "python",
   "pygments_lexer": "ipython3",
   "version": "3.9.7"
  }
 },
 "nbformat": 4,
 "nbformat_minor": 5
}
