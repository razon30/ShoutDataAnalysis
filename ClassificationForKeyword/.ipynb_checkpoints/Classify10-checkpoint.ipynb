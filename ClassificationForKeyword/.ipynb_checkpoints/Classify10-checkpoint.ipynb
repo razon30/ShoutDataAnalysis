{
 "cells": [
  {
   "cell_type": "code",
   "execution_count": 1,
   "id": "cba3917d",
   "metadata": {},
   "outputs": [],
   "source": [
    "import numpy as np\n",
    "import pandas as pd"
   ]
  },
  {
   "cell_type": "code",
   "execution_count": 2,
   "id": "509d8928",
   "metadata": {},
   "outputs": [],
   "source": [
    "relevantKeywordFile = '/Volumes/Works/Development/Python/Shout/Codes/KeywordGenerator/reKeywordList.xlsx'\n",
    "irRelevantKeywordFile = '/Volumes/Works/Development/Python/Shout/Codes/KeywordGenerator/irReKeywordList.xlsx'\n",
    "\n",
    "allTweets = r'/Volumes/Works/Development/Python/Shout/Codes/allTweets10.xlsx'\n",
    "classColumn = 'Class'\n",
    "columnActualTweet = 'Text'"
   ]
  },
  {
   "cell_type": "code",
   "execution_count": 3,
   "id": "be415a19",
   "metadata": {},
   "outputs": [],
   "source": [
    "tweetdDf = pd.read_excel(allTweets)\n",
    "relevantDf = pd.read_excel(relevantKeywordFile)\n",
    "irRelevantDf = pd.read_excel(irRelevantKeywordFile)\n",
    "\n",
    "relevantKeywords = relevantDf.values.tolist()\n",
    "irRelevantKeywords = irRelevantDf.values.tolist()"
   ]
  },
  {
   "cell_type": "code",
   "execution_count": 4,
   "id": "d041106e",
   "metadata": {},
   "outputs": [],
   "source": [
    "for index, tweet in enumerate(tweetdDf.values):\n",
    "    for keyword in irRelevantKeywords:\n",
    "        keywordList = str(keyword).split()\n",
    "        if str(keyword).lower() in str(tweet).lower():\n",
    "            tweetdDf[classColumn] = 0\n",
    "            break\n",
    "        elif len(keywordList) > 1 and keywordList[0].lower() in tweet and keywordList[1].lower() in tweet:\n",
    "            tweetdDf[classColumn] = 0\n",
    "            break\n",
    "        else:\n",
    "            tweetdDf[classColumn] = 1"
   ]
  },
  {
   "cell_type": "code",
   "execution_count": 5,
   "id": "fb8c28f2",
   "metadata": {},
   "outputs": [],
   "source": [
    "tweetdDf.to_csv('/Volumes/Works/Development/Python/Shout/Codes/allTweets10.csv', header=False, index=False)"
   ]
  },
  {
   "cell_type": "code",
   "execution_count": 6,
   "id": "66d57fec",
   "metadata": {},
   "outputs": [
    {
     "name": "stdout",
     "output_type": "stream",
     "text": [
      "099999\n"
     ]
    }
   ],
   "source": [
    "i=0\n",
    "j=0\n",
    "for val in tweetdDf[classColumn].tolist():\n",
    "    if val == 0:\n",
    "        i += 1\n",
    "    else:\n",
    "        j += 1\n",
    "print(str(i)+str(j))"
   ]
  },
  {
   "cell_type": "code",
   "execution_count": null,
   "id": "93b16a20",
   "metadata": {},
   "outputs": [],
   "source": []
  }
 ],
 "metadata": {
  "kernelspec": {
   "display_name": "Python 3 (ipykernel)",
   "language": "python",
   "name": "python3"
  },
  "language_info": {
   "codemirror_mode": {
    "name": "ipython",
    "version": 3
   },
   "file_extension": ".py",
   "mimetype": "text/x-python",
   "name": "python",
   "nbconvert_exporter": "python",
   "pygments_lexer": "ipython3",
   "version": "3.9.7"
  }
 },
 "nbformat": 4,
 "nbformat_minor": 5
}
