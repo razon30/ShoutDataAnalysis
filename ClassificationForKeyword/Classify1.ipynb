{
 "cells": [
  {
   "cell_type": "code",
   "execution_count": 2,
   "id": "f9c8a64b",
   "metadata": {},
   "outputs": [],
   "source": [
    "import numpy as np\n",
    "import pandas as pd\n",
    "\n",
    "allTweets = r'/Volumes/Works/Development/Python/Shout/Codes/allTweets.csv'\n",
    "classColumn = 'Class'\n",
    "columnActualTweet = 'Text'"
   ]
  },
  {
   "cell_type": "code",
   "execution_count": 3,
   "id": "b8d5082f",
   "metadata": {},
   "outputs": [
    {
     "name": "stdout",
     "output_type": "stream",
     "text": [
      "1253533\n"
     ]
    }
   ],
   "source": [
    "tweetdDf = pd.read_csv(allTweets)\n",
    "print(len(tweetdDf.values))"
   ]
  },
  {
   "cell_type": "code",
   "execution_count": 6,
   "id": "be8335b4",
   "metadata": {},
   "outputs": [],
   "source": [
    "tweetFile1 = r'/Volumes/Works/Development/Python/Shout/Codes/allTweets1.csv'\n",
    "tweetFile2 = r'/Volumes/Works/Development/Python/Shout/Codes/allTweets1.csv'\n",
    "tweetFile3 = r'/Volumes/Works/Development/Python/Shout/Codes/allTweets1.csv'\n",
    "tweetFile4 = r'/Volumes/Works/Development/Python/Shout/Codes/allTweets1.csv'\n",
    "tweetFile5 = r'/Volumes/Works/Development/Python/Shout/Codes/allTweets1.csv'\n",
    "tweetFile6 = r'/Volumes/Works/Development/Python/Shout/Codes/allTweets1.csv'\n",
    "tweetFile7 = r'/Volumes/Works/Development/Python/Shout/Codes/allTweets1.csv'\n",
    "tweetFile8 = r'/Volumes/Works/Development/Python/Shout/Codes/allTweets1.csv'\n",
    "tweetFile9 = r'/Volumes/Works/Development/Python/Shout/Codes/allTweets1.csv'\n",
    "tweetFile10 = r'/Volumes/Works/Development/Python/Shout/Codes/allTweets1.csv'\n",
    "tweetFile11 = r'/Volumes/Works/Development/Python/Shout/Codes/allTweets1.csv'\n",
    "tweetFile12 = r'/Volumes/Works/Development/Python/Shout/Codes/allTweets1.csv'"
   ]
  },
  {
   "cell_type": "code",
   "execution_count": 7,
   "id": "7d171da7",
   "metadata": {},
   "outputs": [],
   "source": [
    "def divide_chunks(l, n):\n",
    "      \n",
    "    # looping till length l\n",
    "    for i in range(0, len(l), n): \n",
    "        yield l[i:i + n]"
   ]
  },
  {
   "cell_type": "code",
   "execution_count": 9,
   "id": "4e1c2d50",
   "metadata": {},
   "outputs": [],
   "source": [
    "n = 100000\n",
    "my_list = tweetdDf[columnActualTweet].tolist()\n",
    "x = list(divide_chunks(my_list, n))"
   ]
  },
  {
   "cell_type": "code",
   "execution_count": 10,
   "id": "233fdaa1",
   "metadata": {},
   "outputs": [
    {
     "name": "stdout",
     "output_type": "stream",
     "text": [
      "13\n"
     ]
    }
   ],
   "source": [
    "print(len(x))"
   ]
  },
  {
   "cell_type": "code",
   "execution_count": 20,
   "id": "84d94733",
   "metadata": {},
   "outputs": [],
   "source": [
    "for i in range(len(x)):\n",
    "    tweetFile = r'/Volumes/Works/Development/Python/Shout/Codes/allTweets'+str(i)+'.xlsx'\n",
    "    data = x[i]\n",
    "    df = pd.DataFrame({'Text': data})\n",
    "    df.to_excel(tweetFile, header=False, index=False)"
   ]
  },
  {
   "cell_type": "code",
   "execution_count": null,
   "id": "ba60ce3f",
   "metadata": {},
   "outputs": [],
   "source": []
  }
 ],
 "metadata": {
  "kernelspec": {
   "display_name": "Python 3 (ipykernel)",
   "language": "python",
   "name": "python3"
  },
  "language_info": {
   "codemirror_mode": {
    "name": "ipython",
    "version": 3
   },
   "file_extension": ".py",
   "mimetype": "text/x-python",
   "name": "python",
   "nbconvert_exporter": "python",
   "pygments_lexer": "ipython3",
   "version": "3.9.7"
  }
 },
 "nbformat": 4,
 "nbformat_minor": 5
}
